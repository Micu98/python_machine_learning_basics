{
 "cells": [
  {
   "cell_type": "markdown",
   "id": "f40d2887",
   "metadata": {},
   "source": [
    "# Regression Trees & Random Forest Regression (apartment data)\n",
    "\n",
    "In this notebook, we will use Regression Tree and Random Forest Regressors to predict rental apartment prices based on various features like living area, number of rooms and more. We will evaluate the models using goodness-of-fit measures like R-squared."
   ]
  },
  {
   "cell_type": "markdown",
   "id": "1b71a018",
   "metadata": {},
   "source": [
    "## Libraries and settings"
   ]
  },
  {
   "cell_type": "code",
   "execution_count": 13,
   "id": "66dc5534",
   "metadata": {},
   "outputs": [
    {
     "name": "stdout",
     "output_type": "stream",
     "text": [
      "/workspaces/python_machine_learning_basics/CART_RandomForest\n"
     ]
    }
   ],
   "source": [
    "# Libraries\n",
    "import os\n",
    "import numpy as np\n",
    "import pandas as pd\n",
    "from sklearn import tree\n",
    "import matplotlib.pyplot as plt\n",
    "from sklearn.metrics import r2_score\n",
    "from sklearn.datasets import make_regression\n",
    "from sklearn.tree import DecisionTreeRegressor\n",
    "from sklearn.ensemble import RandomForestRegressor\n",
    "from sklearn.model_selection import train_test_split\n",
    "\n",
    "# Ignore warnings\n",
    "import warnings\n",
    "warnings.filterwarnings('ignore')\n",
    "\n",
    "# Show current working directory\n",
    "print(os.getcwd())"
   ]
  },
  {
   "cell_type": "code",
   "execution_count": 25,
   "id": "2f287d77",
   "metadata": {},
   "outputs": [
    {
     "data": {
      "text/plain": [
       "['Url_Short',\n",
       " 'Offer_Id',\n",
       " 'Scrape_Dt',\n",
       " 'Type',\n",
       " 'Price_Raw',\n",
       " 'HP_Raw',\n",
       " 'Init_Regist',\n",
       " 'Mileage_Raw',\n",
       " 'Fuel_Type',\n",
       " 'Transmission',\n",
       " 'Dealer_Name',\n",
       " 'Dealer_PLZ',\n",
       " 'Dealer_City',\n",
       " 'Dealer_Street_House_Nr',\n",
       " 'Dealer_Telnr',\n",
       " 'Init_Regist_MY',\n",
       " 'Init_Regist_Month',\n",
       " 'Init_Regist_Year',\n",
       " 'Init_Regist_Dt']"
      ]
     },
     "execution_count": 25,
     "metadata": {},
     "output_type": "execute_result"
    }
   ],
   "source": [
    "# Import data from csv to pandas dataframe named 'df'\n",
    "df = pd.read_csv('./Data/autoscout24_data.csv', sep=\";\", encoding='utf-8')\n",
    "\n",
    "# Change the column names to lowercase\n",
    "# df.columns = df.columns.str.lower()\n",
    "\n",
    "# Display the first 5 rows of the dataframe\n",
    "df.head()\n",
    "\n",
    "# column names\n",
    "list(df.columns)\n"
   ]
  },
  {
   "cell_type": "markdown",
   "id": "d9c0ced7",
   "metadata": {},
   "source": [
    "## Import the car data"
   ]
  },
  {
   "cell_type": "code",
   "execution_count": 30,
   "id": "0abc23fc",
   "metadata": {},
   "outputs": [
    {
     "name": "stdout",
     "output_type": "stream",
     "text": [
      "(3971, 19)\n"
     ]
    },
    {
     "data": {
      "text/html": [
       "<div>\n",
       "<style scoped>\n",
       "    .dataframe tbody tr th:only-of-type {\n",
       "        vertical-align: middle;\n",
       "    }\n",
       "\n",
       "    .dataframe tbody tr th {\n",
       "        vertical-align: top;\n",
       "    }\n",
       "\n",
       "    .dataframe thead th {\n",
       "        text-align: right;\n",
       "    }\n",
       "</style>\n",
       "<table border=\"1\" class=\"dataframe\">\n",
       "  <thead>\n",
       "    <tr style=\"text-align: right;\">\n",
       "      <th></th>\n",
       "      <th>Url_Short</th>\n",
       "      <th>Offer_Id</th>\n",
       "      <th>Scrape_Dt</th>\n",
       "      <th>Type</th>\n",
       "      <th>Price_Raw</th>\n",
       "      <th>HP_Raw</th>\n",
       "      <th>Init_Regist</th>\n",
       "      <th>Mileage_Raw</th>\n",
       "      <th>Fuel_Type</th>\n",
       "      <th>Transmission</th>\n",
       "      <th>Dealer_Name</th>\n",
       "      <th>Dealer_PLZ</th>\n",
       "      <th>Dealer_City</th>\n",
       "      <th>Dealer_Street_House_Nr</th>\n",
       "      <th>Dealer_Telnr</th>\n",
       "      <th>Init_Regist_MY</th>\n",
       "      <th>Init_Regist_Month</th>\n",
       "      <th>Init_Regist_Year</th>\n",
       "      <th>Init_Regist_Dt</th>\n",
       "    </tr>\n",
       "  </thead>\n",
       "  <tbody>\n",
       "    <tr>\n",
       "      <th>0</th>\n",
       "      <td>https://www.autoscout24.ch/7324420</td>\n",
       "      <td>7324420</td>\n",
       "      <td>2020_03_17 07:34:45</td>\n",
       "      <td>AUDI A5 Sportback 3.0 TDI quattro S-tronic (Li...</td>\n",
       "      <td>CHF 22'500.–</td>\n",
       "      <td>245 PS</td>\n",
       "      <td>10.2014</td>\n",
       "      <td>75'000 km</td>\n",
       "      <td>Diesel</td>\n",
       "      <td>Automatisiertes Schaltgetriebe</td>\n",
       "      <td>***confidential***</td>\n",
       "      <td>8488</td>\n",
       "      <td>Turbenthal</td>\n",
       "      <td>Mettlenstrasse 3</td>\n",
       "      <td>***confidential***</td>\n",
       "      <td>10.2014</td>\n",
       "      <td>10.0</td>\n",
       "      <td>2014.0</td>\n",
       "      <td>2014-10</td>\n",
       "    </tr>\n",
       "    <tr>\n",
       "      <th>1</th>\n",
       "      <td>https://www.autoscout24.ch/7512768</td>\n",
       "      <td>7512768</td>\n",
       "      <td>2020_03_17 07:34:55</td>\n",
       "      <td>MERCEDES-BENZ SLK 200 7G-Tronic (Cabriolet)</td>\n",
       "      <td>CHF 23'749.–</td>\n",
       "      <td>184 PS</td>\n",
       "      <td>6.2013</td>\n",
       "      <td>46'655 km</td>\n",
       "      <td>Benzin</td>\n",
       "      <td>Automat sequentiell</td>\n",
       "      <td>***confidential***</td>\n",
       "      <td>3186</td>\n",
       "      <td>Düdingen</td>\n",
       "      <td>Brugerastrasse 60</td>\n",
       "      <td>***confidential***</td>\n",
       "      <td>6.2013</td>\n",
       "      <td>6.0</td>\n",
       "      <td>2013.0</td>\n",
       "      <td>2013-06</td>\n",
       "    </tr>\n",
       "    <tr>\n",
       "      <th>2</th>\n",
       "      <td>https://www.autoscout24.ch/7512034</td>\n",
       "      <td>7512034</td>\n",
       "      <td>2020_03_17 07:35:03</td>\n",
       "      <td>MERCEDES-BENZ C 350 Avantgarde 4Matic 7G-Troni...</td>\n",
       "      <td>CHF 18'500.–</td>\n",
       "      <td>306 PS</td>\n",
       "      <td>6.2011</td>\n",
       "      <td>138'955 km</td>\n",
       "      <td>Benzin</td>\n",
       "      <td>Automat sequentiell</td>\n",
       "      <td>***confidential***</td>\n",
       "      <td>1262</td>\n",
       "      <td>Eysins</td>\n",
       "      <td>1262 Eysins</td>\n",
       "      <td>***confidential***</td>\n",
       "      <td>6.2011</td>\n",
       "      <td>6.0</td>\n",
       "      <td>2011.0</td>\n",
       "      <td>2011-06</td>\n",
       "    </tr>\n",
       "    <tr>\n",
       "      <th>3</th>\n",
       "      <td>https://www.autoscout24.ch/7512728</td>\n",
       "      <td>7512728</td>\n",
       "      <td>2020_03_17 07:35:06</td>\n",
       "      <td>MERCEDES-BENZ A 45 AMG 4Matic Speedshift 7G-DC...</td>\n",
       "      <td>CHF 36'000.–</td>\n",
       "      <td>360 PS</td>\n",
       "      <td>8.2015</td>\n",
       "      <td>43'000 km</td>\n",
       "      <td>Benzin</td>\n",
       "      <td>Automatisiertes Schaltgetriebe</td>\n",
       "      <td>***confidential***</td>\n",
       "      <td>4314</td>\n",
       "      <td>Zeiningen</td>\n",
       "      <td>Am Stutz 21</td>\n",
       "      <td>***confidential***</td>\n",
       "      <td>8.2015</td>\n",
       "      <td>8.0</td>\n",
       "      <td>2015.0</td>\n",
       "      <td>2015-08</td>\n",
       "    </tr>\n",
       "    <tr>\n",
       "      <th>4</th>\n",
       "      <td>https://www.autoscout24.ch/7490242</td>\n",
       "      <td>7490242</td>\n",
       "      <td>2020_03_17 07:35:16</td>\n",
       "      <td>AUDI A5 Sportback 2.0 TFSI Sport quattro S-tro...</td>\n",
       "      <td>CHF 48'500.–</td>\n",
       "      <td>252 PS</td>\n",
       "      <td>9.2018</td>\n",
       "      <td>43'300 km</td>\n",
       "      <td>Benzin</td>\n",
       "      <td>Automatisiertes Schaltgetriebe</td>\n",
       "      <td>***confidential***</td>\n",
       "      <td>3250</td>\n",
       "      <td>Lyss</td>\n",
       "      <td>3250 Lyss</td>\n",
       "      <td>***confidential***</td>\n",
       "      <td>9.2018</td>\n",
       "      <td>9.0</td>\n",
       "      <td>2018.0</td>\n",
       "      <td>2018-09</td>\n",
       "    </tr>\n",
       "  </tbody>\n",
       "</table>\n",
       "</div>"
      ],
      "text/plain": [
       "                            Url_Short  Offer_Id            Scrape_Dt  \\\n",
       "0  https://www.autoscout24.ch/7324420   7324420  2020_03_17 07:34:45   \n",
       "1  https://www.autoscout24.ch/7512768   7512768  2020_03_17 07:34:55   \n",
       "2  https://www.autoscout24.ch/7512034   7512034  2020_03_17 07:35:03   \n",
       "3  https://www.autoscout24.ch/7512728   7512728  2020_03_17 07:35:06   \n",
       "4  https://www.autoscout24.ch/7490242   7490242  2020_03_17 07:35:16   \n",
       "\n",
       "                                                Type     Price_Raw  HP_Raw  \\\n",
       "0  AUDI A5 Sportback 3.0 TDI quattro S-tronic (Li...  CHF 22'500.–  245 PS   \n",
       "1        MERCEDES-BENZ SLK 200 7G-Tronic (Cabriolet)  CHF 23'749.–  184 PS   \n",
       "2  MERCEDES-BENZ C 350 Avantgarde 4Matic 7G-Troni...  CHF 18'500.–  306 PS   \n",
       "3  MERCEDES-BENZ A 45 AMG 4Matic Speedshift 7G-DC...  CHF 36'000.–  360 PS   \n",
       "4  AUDI A5 Sportback 2.0 TFSI Sport quattro S-tro...  CHF 48'500.–  252 PS   \n",
       "\n",
       "  Init_Regist Mileage_Raw Fuel_Type                    Transmission  \\\n",
       "0     10.2014   75'000 km    Diesel  Automatisiertes Schaltgetriebe   \n",
       "1      6.2013   46'655 km    Benzin             Automat sequentiell   \n",
       "2      6.2011  138'955 km    Benzin             Automat sequentiell   \n",
       "3      8.2015   43'000 km    Benzin  Automatisiertes Schaltgetriebe   \n",
       "4      9.2018   43'300 km    Benzin  Automatisiertes Schaltgetriebe   \n",
       "\n",
       "          Dealer_Name  Dealer_PLZ Dealer_City Dealer_Street_House_Nr  \\\n",
       "0  ***confidential***        8488  Turbenthal       Mettlenstrasse 3   \n",
       "1  ***confidential***        3186    Düdingen      Brugerastrasse 60   \n",
       "2  ***confidential***        1262      Eysins            1262 Eysins   \n",
       "3  ***confidential***        4314   Zeiningen            Am Stutz 21   \n",
       "4  ***confidential***        3250        Lyss              3250 Lyss   \n",
       "\n",
       "         Dealer_Telnr Init_Regist_MY  Init_Regist_Month  Init_Regist_Year  \\\n",
       "0  ***confidential***        10.2014               10.0            2014.0   \n",
       "1  ***confidential***         6.2013                6.0            2013.0   \n",
       "2  ***confidential***         6.2011                6.0            2011.0   \n",
       "3  ***confidential***         8.2015                8.0            2015.0   \n",
       "4  ***confidential***         9.2018                9.0            2018.0   \n",
       "\n",
       "  Init_Regist_Dt  \n",
       "0        2014-10  \n",
       "1        2013-06  \n",
       "2        2011-06  \n",
       "3        2015-08  \n",
       "4        2018-09  "
      ]
     },
     "execution_count": 30,
     "metadata": {},
     "output_type": "execute_result"
    }
   ],
   "source": [
    "# Define columns for import\n",
    "columns = [ 'Url_Short',\n",
    "            'Offer_Id',\n",
    "            'Scrape_Dt',\n",
    "            'Type',\n",
    "            'Price_Raw',\n",
    "            'HP_Raw',\n",
    "            'Init_Regist',\n",
    "            'Mileage_Raw',\n",
    "            'Fuel_Type',\n",
    "            'Transmission',\n",
    "            'Dealer_Name',\n",
    "            'Dealer_PLZ',\n",
    "            'Dealer_City',\n",
    "            'Dealer_Street_House_Nr',\n",
    "            'Dealer_Telnr',\n",
    "            'Init_Regist_MY',\n",
    "            'Init_Regist_Month',\n",
    "            'Init_Regist_Year',\n",
    "            'Init_Regist_Dt']\n",
    "\n",
    "# Read and select columns\n",
    "df_orig = pd.read_csv(\"./Data/autoscout24_data.csv\", sep=\";\", encoding='utf-8')[columns]\n",
    "\n",
    "# Rename variable 'web-scraper-order' to 'apmt_id'\n",
    "df_orig = df_orig.rename(columns={'offer_id': 'id'})\n",
    "\n",
    "# Remove missing values\n",
    "df = df_orig.dropna()\n",
    "df.head(5)\n",
    "\n",
    "# Remove duplicates\n",
    "df = df.drop_duplicates()\n",
    "\n",
    "# numeric values\n",
    "# df['Price_Raw'] = pd.to_numeric(df['Price_Raw'], errors='coerce')\n",
    "\n",
    "# Remove some 'extreme' values\n",
    "# df = df.loc[(df['Price_Raw'] >= 1000) & # Bereich festlegen (1000-5000)\n",
    "            # (df['Price_Raw'] <= 100000)]\n",
    "\n",
    "# Reset index\n",
    "df = df.reset_index(drop=True)\n",
    "\n",
    "print(df.shape)\n",
    "df.head(5)"
   ]
  },
  {
   "cell_type": "markdown",
   "id": "912a7cad",
   "metadata": {},
   "source": [
    "## Regression Tree\n",
    "See also: https://data36.com/regression-tree-python-scikit-learn"
   ]
  },
  {
   "cell_type": "markdown",
   "id": "82198a19",
   "metadata": {},
   "source": [
    "### Create train and test samples for the regression tree (train = 80%, test = 20% of the data)"
   ]
  },
  {
   "cell_type": "code",
   "execution_count": null,
   "id": "6d76a5cc",
   "metadata": {},
   "outputs": [],
   "source": [
    "# Create train and test samples\n",
    "X_train, X_test, y_train, y_test = train_test_split(df[['area', \n",
    "                                                        'rooms',\n",
    "                                                        'pop_dens',\n",
    "                                                        'mean_taxable_income',\n",
    "                                                        'dist_supermarket']], \n",
    "                                                        df['price'], # y = price, abhängige Variable\n",
    "                                                        test_size=0.20, \n",
    "                                                        random_state=42)\n",
    "\n",
    "# Show X_train\n",
    "print('X_train:')\n",
    "print(X_train.head(), '\\n')\n",
    "\n",
    "# Show y_train\n",
    "print('y_train:')\n",
    "print(y_train.head())"
   ]
  },
  {
   "cell_type": "markdown",
   "id": "93f65098",
   "metadata": {},
   "source": [
    "### Fit the regression tree model"
   ]
  },
  {
   "cell_type": "code",
   "execution_count": null,
   "id": "23141c86",
   "metadata": {},
   "outputs": [],
   "source": [
    "# Entscheidungsbaum-Regressor (Regressionsmodel das auf Entscheidungsbaum basiert) erstellt und trainiert, um Vorhersagen für einen Testdatensatz\n",
    "# DecisionTreeRegressor = Machine-Learning-Modell aus der scikit-learn-Bibliothek, das verwendet wird, um Vorhersagen zu treffen.\n",
    "\n",
    "# Create decision tree regressor object\n",
    "reg = DecisionTreeRegressor(random_state=20, max_depth=3) # random_state = zufälliger Startwert, max_depth = Tiefe des Baumes auf drei Ebenen, um eine (Overfitting) zu verhindern\n",
    "\n",
    "# Train decision tree regressor \n",
    "reg = reg.fit(X_train, y_train) \n",
    "\n",
    "# Predict the response for test dataset\n",
    "y_pred = reg.predict(X_test)"
   ]
  },
  {
   "cell_type": "markdown",
   "id": "a104a81a",
   "metadata": {},
   "source": [
    "### Calculate coefficient of determination (R-squared)"
   ]
  },
  {
   "cell_type": "code",
   "execution_count": null,
   "id": "2214835a",
   "metadata": {},
   "outputs": [],
   "source": [
    "# Calculate coefficient of determination\n",
    "print('R-squared:', round(r2_score(y_test, y_pred), 4)) # auf vier Dezimalstellen runden\n"
   ]
  },
  {
   "cell_type": "markdown",
   "id": "2241dece",
   "metadata": {},
   "source": [
    "### Print text representation of the regression tree"
   ]
  },
  {
   "cell_type": "code",
   "execution_count": null,
   "id": "0df6062b",
   "metadata": {},
   "outputs": [],
   "source": [
    "# Text representation of the regression tree\n",
    "text_representation = tree.export_text(reg, \n",
    "                                       feature_names=list(X_train.columns))\n",
    "\n",
    "# Print text_representation\n",
    "print(text_representation)\n",
    "\n",
    "# Die Ausgabe zeigt die Entscheidungsregeln des Baums in einer Art verschachtelten If-Else-Struktur:\n",
    "# Jede Zeile stellt eine Bedingung in einem Knoten dar, z. B. wie area <= 99.50, dass der Baum sich an dieser Stelle verzweigt.\n",
    "# Wenn die Bedingung erfüllt ist, folgt der Baum dem rechten Zweig (pop_dens); andernfalls geht es nach links resp. unten zum nächsten area Knotenpunkt.\n",
    "# Blattknoten am Ende des Baums repräsentieren die vorhergesagten Werte für die Zielvariable."
   ]
  },
  {
   "cell_type": "markdown",
   "id": "afec49c6",
   "metadata": {},
   "source": [
    "### Vizualizing the regression tree"
   ]
  },
  {
   "cell_type": "code",
   "execution_count": null,
   "id": "e9267117",
   "metadata": {},
   "outputs": [],
   "source": [
    "fig = plt.figure(figsize=(12,6))\n",
    "_ = tree.plot_tree(reg, \n",
    "                   feature_names=list(X_train.columns),  \n",
    "                   class_names=['price'], # Handelt um Regression, gibt es keine Klassen wie bei Klassifikationsmodellen, aber class_names kann eine Bezeichnung für die Zielvariable (abhängige) sein\n",
    "                   filled=True, #Farbliche Hervorhebung der Knotenpunkte\n",
    "                   fontsize=9,\n",
    "                   label='root', #Labels für Knotenpunkte werden angezeigt\n",
    "                   rounded=True) # Ecken abrunden"
   ]
  },
  {
   "cell_type": "markdown",
   "id": "60d6ed7c",
   "metadata": {},
   "source": [
    "## Random Forest Regression\n",
    "For details see: https://scikit-learn.org/stable/modules/generated/sklearn.ensemble.RandomForestRegressor.html"
   ]
  },
  {
   "cell_type": "markdown",
   "id": "545f9034",
   "metadata": {},
   "source": [
    "### Create train and test samples for the random forest (train = 80%, test = 20% of the data)"
   ]
  },
  {
   "cell_type": "code",
   "execution_count": null,
   "id": "d0ffb139",
   "metadata": {},
   "outputs": [],
   "source": [
    "# Create train and test samples (the names X2_ and y2_ were used because X_ and y_ were already used above)\n",
    "X2_train, X2_test, y2_train, y2_test = train_test_split(df[['area', \n",
    "                                                            'rooms',\n",
    "                                                            'pop_dens',\n",
    "                                                            'mean_taxable_income',\n",
    "                                                            'dist_supermarket']], \n",
    "                                                            df['price'], \n",
    "                                                            test_size=0.20, \n",
    "                                                            random_state=42)\n",
    "\n",
    "# Show X2_train\n",
    "print('X2_train:')\n",
    "print(X2_train.head(), '\\n')\n",
    "\n",
    "# Show y2_train\n",
    "print('y2_train:')\n",
    "print(y2_train.head())"
   ]
  },
  {
   "cell_type": "markdown",
   "id": "f565dc23",
   "metadata": {},
   "source": [
    "### Fit the Random Forest Regression"
   ]
  },
  {
   "cell_type": "code",
   "execution_count": null,
   "id": "6eb896c2",
   "metadata": {},
   "outputs": [],
   "source": [
    "\n",
    "reg_rf = RandomForestRegressor(n_estimators=500, # 500 Bäume im Random Forest\n",
    "                               max_depth=10, # tiefe des Modells anpassen. max 10 Ebenen\n",
    "                               random_state=5) # auf scikit learn -> randomforest eingeben\n",
    "reg_rf.fit(X2_train, y2_train)\n",
    "\n",
    "# Calculate coefficient of determination (R-squared)\n",
    "print('R-squared:', round(reg_rf.score(X2_test, y2_test), 4))"
   ]
  },
  {
   "cell_type": "markdown",
   "id": "888014a9",
   "metadata": {},
   "source": [
    "### Show feature importance"
   ]
  },
  {
   "cell_type": "code",
   "execution_count": null,
   "id": "b51f4d42",
   "metadata": {},
   "outputs": [],
   "source": [
    "cols = X2_train.columns\n",
    "\n",
    "# Derive feature importance from random forest\n",
    "importances = reg_rf.feature_importances_ # Wichtigkeit der Merkmale ermitteln\n",
    "std         = np.std([tree.feature_importances_ for tree in reg_rf.estimators_], axis=0) # Standardabweichung der Werte um Stabilität zu ermitteln\n",
    "indices     = np.argsort(importances)[::-1] # sortiert Indizies der Merkmale in absteigender Reihenfolge (wichtigste Merkmale zuerst)\n",
    "\n",
    "# Print col-names and importances-values\n",
    "print( cols[indices] )\n",
    "print( importances[indices] )\n",
    "\n",
    "# Barplot with feature importance\n",
    "df_fi = pd.DataFrame({'features':cols,'importances': importances}) # Dataframe erstellen für Wichtigkeit der Merkmale\n",
    "df_fi.sort_values('importances', inplace=True)\n",
    "df_fi.plot(kind='barh', #barplot horizontal\n",
    "           y='importances', \n",
    "           x='features', \n",
    "           color='darkred', \n",
    "           figsize=(6,3))\n",
    "\n",
    "plt.show()"
   ]
  },
  {
   "cell_type": "markdown",
   "id": "f5dc21b7",
   "metadata": {},
   "source": [
    "### Jupyter notebook --footer info-- (please always provide this at the end of each submitted notebook)"
   ]
  },
  {
   "cell_type": "code",
   "execution_count": null,
   "id": "6908ed12",
   "metadata": {},
   "outputs": [],
   "source": [
    "import os\n",
    "import platform\n",
    "import socket\n",
    "from platform import python_version\n",
    "from datetime import datetime\n",
    "\n",
    "print('-----------------------------------')\n",
    "print(os.name.upper())\n",
    "print(platform.system(), '|', platform.release())\n",
    "print('Datetime:', datetime.now().strftime(\"%Y-%m-%d %H:%M:%S\"))\n",
    "print('Python Version:', python_version())\n",
    "print('-----------------------------------')"
   ]
  }
 ],
 "metadata": {
  "kernelspec": {
   "display_name": "Python 3",
   "language": "python",
   "name": "python3"
  },
  "language_info": {
   "codemirror_mode": {
    "name": "ipython",
    "version": 3
   },
   "file_extension": ".py",
   "mimetype": "text/x-python",
   "name": "python",
   "nbconvert_exporter": "python",
   "pygments_lexer": "ipython3",
   "version": "3.11.10"
  }
 },
 "nbformat": 4,
 "nbformat_minor": 5
}
