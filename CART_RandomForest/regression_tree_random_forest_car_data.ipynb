{
 "cells": [
  {
   "cell_type": "markdown",
   "id": "f40d2887",
   "metadata": {},
   "source": [
    "# Regression Trees & Random Forest Regression (apartment data)\n",
    "\n",
    "In this notebook, we will use Regression Tree and Random Forest Regressors to predict rental apartment prices based on various features like living area, number of rooms and more. We will evaluate the models using goodness-of-fit measures like R-squared."
   ]
  },
  {
   "cell_type": "markdown",
   "id": "1b71a018",
   "metadata": {},
   "source": [
    "## Libraries and settings"
   ]
  },
  {
   "cell_type": "code",
   "execution_count": 11,
   "id": "66dc5534",
   "metadata": {},
   "outputs": [
    {
     "name": "stdout",
     "output_type": "stream",
     "text": [
      "/workspaces/python_machine_learning_basics/CART_RandomForest\n"
     ]
    }
   ],
   "source": [
    "# Libraries\n",
    "import os\n",
    "import re\n",
    "import time\n",
    "import fnmatch\n",
    "import numpy as np\n",
    "import pandas as pd\n",
    "import seaborn as sns\n",
    "from sklearn import tree\n",
    "import matplotlib.pyplot as plt\n",
    "from datetime import datetime\n",
    "from sklearn.metrics import r2_score\n",
    "from sklearn.datasets import make_regression\n",
    "from sklearn.tree import DecisionTreeRegressor\n",
    "from sklearn.ensemble import RandomForestRegressor\n",
    "from sklearn.model_selection import train_test_split\n",
    "\n",
    "# Ignore warnings\n",
    "import warnings\n",
    "warnings.filterwarnings('ignore')\n",
    "\n",
    "# Show current working directory\n",
    "print(os.getcwd())"
   ]
  },
  {
   "cell_type": "markdown",
   "id": "919aa7d0",
   "metadata": {},
   "source": [
    "## Data Preparation"
   ]
  },
  {
   "cell_type": "code",
   "execution_count": 12,
   "id": "a0a30533",
   "metadata": {},
   "outputs": [
    {
     "name": "stdout",
     "output_type": "stream",
     "text": [
      "Missing values before removing:  23\n",
      "Missing values after removing:  0\n",
      "Number of duplicates before removing:  0\n",
      "Number of duplicates after removing:  0\n"
     ]
    },
    {
     "data": {
      "text/plain": [
       "['url_short',\n",
       " 'offer_id',\n",
       " 'scrape_dt',\n",
       " 'type',\n",
       " 'price_raw',\n",
       " 'hp_raw',\n",
       " 'init_regist',\n",
       " 'mileage_raw',\n",
       " 'fuel_type',\n",
       " 'transmission',\n",
       " 'dealer_name',\n",
       " 'dealer_plz',\n",
       " 'dealer_city',\n",
       " 'dealer_street_house_nr',\n",
       " 'dealer_telnr',\n",
       " 'init_regist_my',\n",
       " 'init_regist_month',\n",
       " 'init_regist_year',\n",
       " 'init_regist_dt',\n",
       " 'mileage',\n",
       " 'hp',\n",
       " 'price']"
      ]
     },
     "execution_count": 12,
     "metadata": {},
     "output_type": "execute_result"
    }
   ],
   "source": [
    "# Import data from csv to pandas dataframe named 'df'\n",
    "df = pd.read_csv('./Data/autoscout24_data.csv', sep=\";\", encoding='utf-8')\n",
    "\n",
    "# Change the column names to lowercase\n",
    "df.columns = df.columns.str.lower()\n",
    "\n",
    "# Display the first 5 rows of the dataframe\n",
    "df.head()\n",
    "\n",
    "# Count and remove missing values\n",
    "print(\"Missing values before removing: \", df.isnull().sum().sum()) # two times sum() = .sum() calculates the total missing values per column. Applying .sum() again sums across all columns, giving the total count of missing values in df.\n",
    "df = df.dropna() # drop all rows with missing values\n",
    "print(\"Missing values after removing: \", df.isnull().sum().sum())\n",
    "\n",
    "# Reset the index of the dataframe\n",
    "df = df.reset_index(drop=True) \n",
    "\n",
    "# Count and remove duplicates\n",
    "print(\"Number of duplicates before removing: \", df.duplicated().sum()) # Applying .sum() on this Series counts True values (i.e., the number of duplicates), because True is treated as 1 and False as 0 in a numerical context.\n",
    "df = df.drop_duplicates()\n",
    "print(\"Number of duplicates after removing: \", df.duplicated().sum())\n",
    "\n",
    "# Reset the index of the dataframe\n",
    "df = df.reset_index(drop=True)\n",
    "\n",
    "# Change strings in 'type' to uppercase and remove leading and trailing whitespaces\n",
    "df['type'] = df['type'].str.upper().str.strip()\n",
    "\n",
    "# Display variable 'type'\n",
    "df['type'].head()\n",
    "\n",
    "# Extract numerical values (note the 'join' function)\n",
    "mileage = []\n",
    "for i in df['mileage_raw']:\n",
    "    d1 = re.findall(\"\\d+\", i) # searches for sequences of digits in the string i. This results in a list of strings containing only numbers found in i (e.g., ['123', '456']).\n",
    "    try:\n",
    "        d2 = int(''.join(d1)) #  joins the list of strings into a single string (e.g., ['123', '456'] becomes '123456').\n",
    "    except:\n",
    "        d2 = None\n",
    "    mileage.append(d2)\n",
    "\n",
    "# Save as new variable in the pandas data frame\n",
    "df['mileage'] = pd.Series(mileage, dtype=\"Int64\") # change here datatype for mileage\n",
    "\n",
    "# Extract numerical values (note the 'join' function)\n",
    "hp = []\n",
    "for i in df['hp_raw']:\n",
    "    d1 = re.findall(\"\\d+\", i)\n",
    "    try:\n",
    "        d2 = int(''.join(d1))\n",
    "    except:\n",
    "        d2 = None\n",
    "    hp.append(d2)\n",
    "\n",
    "# Save as new variable in the pandas data frame\n",
    "df['hp'] = pd.Series(hp, dtype=\"Int64\")\n",
    "\n",
    "\n",
    "\n",
    "# Extract numerical values (note the 'join' function)\n",
    "price = []\n",
    "for i in df['price_raw']:\n",
    "    d1 = re.findall(\"CHF\\s*([\\d']+)\\.–\", i)\n",
    "    try:\n",
    "        d2 = d1[0].strip().replace(\"'\", \"\")\n",
    "    except:\n",
    "        d2 = None\n",
    "    price.append(d2)\n",
    "\n",
    "# Save as new variable in the pandas data frame\n",
    "df['price'] = pd.Series(price, dtype=\"Int64\")\n",
    "\n",
    "\n",
    "# save the cleaned data to a new csv file\n",
    "df.to_csv('./Data/autoscout24_data_cleaned.csv', sep=\";\", encoding='utf-8', index=False)\n",
    "\n",
    "# column names\n",
    "list(df.columns)\n"
   ]
  },
  {
   "cell_type": "code",
   "execution_count": 13,
   "id": "4f0bb6d2",
   "metadata": {},
   "outputs": [
    {
     "data": {
      "text/plain": [
       "url_short                  object\n",
       "offer_id                    int64\n",
       "scrape_dt                  object\n",
       "type                       object\n",
       "price_raw                  object\n",
       "hp_raw                     object\n",
       "init_regist                object\n",
       "mileage_raw                object\n",
       "fuel_type                  object\n",
       "transmission               object\n",
       "dealer_name                object\n",
       "dealer_plz                  int64\n",
       "dealer_city                object\n",
       "dealer_street_house_nr     object\n",
       "dealer_telnr               object\n",
       "init_regist_my             object\n",
       "init_regist_month         float64\n",
       "init_regist_year          float64\n",
       "init_regist_dt             object\n",
       "mileage                     Int64\n",
       "hp                          Int64\n",
       "price                       Int64\n",
       "dtype: object"
      ]
     },
     "execution_count": 13,
     "metadata": {},
     "output_type": "execute_result"
    }
   ],
   "source": [
    "df.dtypes"
   ]
  },
  {
   "cell_type": "markdown",
   "id": "d9c0ced7",
   "metadata": {},
   "source": [
    "## Import the car data"
   ]
  },
  {
   "cell_type": "code",
   "execution_count": 16,
   "id": "0abc23fc",
   "metadata": {},
   "outputs": [
    {
     "name": "stdout",
     "output_type": "stream",
     "text": [
      "(3892, 19)\n"
     ]
    },
    {
     "data": {
      "text/html": [
       "<div>\n",
       "<style scoped>\n",
       "    .dataframe tbody tr th:only-of-type {\n",
       "        vertical-align: middle;\n",
       "    }\n",
       "\n",
       "    .dataframe tbody tr th {\n",
       "        vertical-align: top;\n",
       "    }\n",
       "\n",
       "    .dataframe thead th {\n",
       "        text-align: right;\n",
       "    }\n",
       "</style>\n",
       "<table border=\"1\" class=\"dataframe\">\n",
       "  <thead>\n",
       "    <tr style=\"text-align: right;\">\n",
       "      <th></th>\n",
       "      <th>url_short</th>\n",
       "      <th>id</th>\n",
       "      <th>scrape_dt</th>\n",
       "      <th>type</th>\n",
       "      <th>init_regist</th>\n",
       "      <th>fuel_type</th>\n",
       "      <th>transmission</th>\n",
       "      <th>dealer_name</th>\n",
       "      <th>dealer_plz</th>\n",
       "      <th>dealer_city</th>\n",
       "      <th>dealer_street_house_nr</th>\n",
       "      <th>dealer_telnr</th>\n",
       "      <th>init_regist_my</th>\n",
       "      <th>init_regist_month</th>\n",
       "      <th>init_regist_year</th>\n",
       "      <th>init_regist_dt</th>\n",
       "      <th>mileage</th>\n",
       "      <th>hp</th>\n",
       "      <th>price</th>\n",
       "    </tr>\n",
       "  </thead>\n",
       "  <tbody>\n",
       "    <tr>\n",
       "      <th>0</th>\n",
       "      <td>https://www.autoscout24.ch/7324420</td>\n",
       "      <td>7324420</td>\n",
       "      <td>2020_03_17 07:34:45</td>\n",
       "      <td>AUDI A5 SPORTBACK 3.0 TDI QUATTRO S-TRONIC (LI...</td>\n",
       "      <td>10.2014</td>\n",
       "      <td>Diesel</td>\n",
       "      <td>Automatisiertes Schaltgetriebe</td>\n",
       "      <td>***confidential***</td>\n",
       "      <td>8488</td>\n",
       "      <td>Turbenthal</td>\n",
       "      <td>Mettlenstrasse 3</td>\n",
       "      <td>***confidential***</td>\n",
       "      <td>10.2014</td>\n",
       "      <td>10.0</td>\n",
       "      <td>2014.0</td>\n",
       "      <td>2014-10</td>\n",
       "      <td>75000</td>\n",
       "      <td>245</td>\n",
       "      <td>22500</td>\n",
       "    </tr>\n",
       "    <tr>\n",
       "      <th>1</th>\n",
       "      <td>https://www.autoscout24.ch/7512768</td>\n",
       "      <td>7512768</td>\n",
       "      <td>2020_03_17 07:34:55</td>\n",
       "      <td>MERCEDES-BENZ SLK 200 7G-TRONIC (CABRIOLET)</td>\n",
       "      <td>6.2013</td>\n",
       "      <td>Benzin</td>\n",
       "      <td>Automat sequentiell</td>\n",
       "      <td>***confidential***</td>\n",
       "      <td>3186</td>\n",
       "      <td>Düdingen</td>\n",
       "      <td>Brugerastrasse 60</td>\n",
       "      <td>***confidential***</td>\n",
       "      <td>6.2013</td>\n",
       "      <td>6.0</td>\n",
       "      <td>2013.0</td>\n",
       "      <td>2013-06</td>\n",
       "      <td>46655</td>\n",
       "      <td>184</td>\n",
       "      <td>23749</td>\n",
       "    </tr>\n",
       "    <tr>\n",
       "      <th>2</th>\n",
       "      <td>https://www.autoscout24.ch/7512034</td>\n",
       "      <td>7512034</td>\n",
       "      <td>2020_03_17 07:35:03</td>\n",
       "      <td>MERCEDES-BENZ C 350 AVANTGARDE 4MATIC 7G-TRONI...</td>\n",
       "      <td>6.2011</td>\n",
       "      <td>Benzin</td>\n",
       "      <td>Automat sequentiell</td>\n",
       "      <td>***confidential***</td>\n",
       "      <td>1262</td>\n",
       "      <td>Eysins</td>\n",
       "      <td>1262 Eysins</td>\n",
       "      <td>***confidential***</td>\n",
       "      <td>6.2011</td>\n",
       "      <td>6.0</td>\n",
       "      <td>2011.0</td>\n",
       "      <td>2011-06</td>\n",
       "      <td>138955</td>\n",
       "      <td>306</td>\n",
       "      <td>18500</td>\n",
       "    </tr>\n",
       "    <tr>\n",
       "      <th>3</th>\n",
       "      <td>https://www.autoscout24.ch/7512728</td>\n",
       "      <td>7512728</td>\n",
       "      <td>2020_03_17 07:35:06</td>\n",
       "      <td>MERCEDES-BENZ A 45 AMG 4MATIC SPEEDSHIFT 7G-DC...</td>\n",
       "      <td>8.2015</td>\n",
       "      <td>Benzin</td>\n",
       "      <td>Automatisiertes Schaltgetriebe</td>\n",
       "      <td>***confidential***</td>\n",
       "      <td>4314</td>\n",
       "      <td>Zeiningen</td>\n",
       "      <td>Am Stutz 21</td>\n",
       "      <td>***confidential***</td>\n",
       "      <td>8.2015</td>\n",
       "      <td>8.0</td>\n",
       "      <td>2015.0</td>\n",
       "      <td>2015-08</td>\n",
       "      <td>43000</td>\n",
       "      <td>360</td>\n",
       "      <td>36000</td>\n",
       "    </tr>\n",
       "    <tr>\n",
       "      <th>4</th>\n",
       "      <td>https://www.autoscout24.ch/7490242</td>\n",
       "      <td>7490242</td>\n",
       "      <td>2020_03_17 07:35:16</td>\n",
       "      <td>AUDI A5 SPORTBACK 2.0 TFSI SPORT QUATTRO S-TRO...</td>\n",
       "      <td>9.2018</td>\n",
       "      <td>Benzin</td>\n",
       "      <td>Automatisiertes Schaltgetriebe</td>\n",
       "      <td>***confidential***</td>\n",
       "      <td>3250</td>\n",
       "      <td>Lyss</td>\n",
       "      <td>3250 Lyss</td>\n",
       "      <td>***confidential***</td>\n",
       "      <td>9.2018</td>\n",
       "      <td>9.0</td>\n",
       "      <td>2018.0</td>\n",
       "      <td>2018-09</td>\n",
       "      <td>43300</td>\n",
       "      <td>252</td>\n",
       "      <td>48500</td>\n",
       "    </tr>\n",
       "  </tbody>\n",
       "</table>\n",
       "</div>"
      ],
      "text/plain": [
       "                            url_short       id            scrape_dt  \\\n",
       "0  https://www.autoscout24.ch/7324420  7324420  2020_03_17 07:34:45   \n",
       "1  https://www.autoscout24.ch/7512768  7512768  2020_03_17 07:34:55   \n",
       "2  https://www.autoscout24.ch/7512034  7512034  2020_03_17 07:35:03   \n",
       "3  https://www.autoscout24.ch/7512728  7512728  2020_03_17 07:35:06   \n",
       "4  https://www.autoscout24.ch/7490242  7490242  2020_03_17 07:35:16   \n",
       "\n",
       "                                                type  init_regist fuel_type  \\\n",
       "0  AUDI A5 SPORTBACK 3.0 TDI QUATTRO S-TRONIC (LI...      10.2014    Diesel   \n",
       "1        MERCEDES-BENZ SLK 200 7G-TRONIC (CABRIOLET)       6.2013    Benzin   \n",
       "2  MERCEDES-BENZ C 350 AVANTGARDE 4MATIC 7G-TRONI...       6.2011    Benzin   \n",
       "3  MERCEDES-BENZ A 45 AMG 4MATIC SPEEDSHIFT 7G-DC...       8.2015    Benzin   \n",
       "4  AUDI A5 SPORTBACK 2.0 TFSI SPORT QUATTRO S-TRO...       9.2018    Benzin   \n",
       "\n",
       "                     transmission         dealer_name  dealer_plz dealer_city  \\\n",
       "0  Automatisiertes Schaltgetriebe  ***confidential***        8488  Turbenthal   \n",
       "1             Automat sequentiell  ***confidential***        3186    Düdingen   \n",
       "2             Automat sequentiell  ***confidential***        1262      Eysins   \n",
       "3  Automatisiertes Schaltgetriebe  ***confidential***        4314   Zeiningen   \n",
       "4  Automatisiertes Schaltgetriebe  ***confidential***        3250        Lyss   \n",
       "\n",
       "  dealer_street_house_nr        dealer_telnr  init_regist_my  \\\n",
       "0       Mettlenstrasse 3  ***confidential***         10.2014   \n",
       "1      Brugerastrasse 60  ***confidential***          6.2013   \n",
       "2            1262 Eysins  ***confidential***          6.2011   \n",
       "3            Am Stutz 21  ***confidential***          8.2015   \n",
       "4              3250 Lyss  ***confidential***          9.2018   \n",
       "\n",
       "   init_regist_month  init_regist_year init_regist_dt  mileage   hp  price  \n",
       "0               10.0            2014.0        2014-10    75000  245  22500  \n",
       "1                6.0            2013.0        2013-06    46655  184  23749  \n",
       "2                6.0            2011.0        2011-06   138955  306  18500  \n",
       "3                8.0            2015.0        2015-08    43000  360  36000  \n",
       "4                9.0            2018.0        2018-09    43300  252  48500  "
      ]
     },
     "execution_count": 16,
     "metadata": {},
     "output_type": "execute_result"
    }
   ],
   "source": [
    "# Define columns for import\n",
    "columns = ['url_short',\n",
    " 'offer_id',\n",
    " 'scrape_dt',\n",
    " 'type',\n",
    " 'init_regist',\n",
    " 'fuel_type',\n",
    " 'transmission',\n",
    " 'dealer_name',\n",
    " 'dealer_plz',\n",
    " 'dealer_city',\n",
    " 'dealer_street_house_nr',\n",
    " 'dealer_telnr',\n",
    " 'init_regist_my',\n",
    " 'init_regist_month',\n",
    " 'init_regist_year',\n",
    " 'init_regist_dt',\n",
    " 'mileage',\n",
    " 'hp',\n",
    " 'price']\n",
    "\n",
    "\n",
    "# Read and select columns\n",
    "df_orig = pd.read_csv(\"./Data/autoscout24_data_cleaned.csv\", sep=\";\", encoding='utf-8')[columns]\n",
    "\n",
    "# Rename variable 'web-scraper-order' to 'apmt_id'\n",
    "df_orig = df_orig.rename(columns={'offer_id': 'id'})\n",
    "\n",
    "# Remove missing values\n",
    "df = df_orig.dropna()\n",
    "df.head(5)\n",
    "\n",
    "# Remove duplicates\n",
    "df = df.drop_duplicates()\n",
    "\n",
    "# Remove some 'extreme' values\n",
    "df = df.loc[(df['price'] >= 1000) & # Bereich festlegen (1000-5000)\n",
    "            (df['price'] <= 100000)]\n",
    "\n",
    "# Reset index\n",
    "df = df.reset_index(drop=True)\n",
    "\n",
    "print(df.shape)\n",
    "df.head(5)"
   ]
  },
  {
   "cell_type": "markdown",
   "id": "912a7cad",
   "metadata": {},
   "source": [
    "## Regression Tree\n",
    "See also: https://data36.com/regression-tree-python-scikit-learn"
   ]
  },
  {
   "cell_type": "markdown",
   "id": "82198a19",
   "metadata": {},
   "source": [
    "### Create train and test samples for the regression tree (train = 80%, test = 20% of the data)"
   ]
  },
  {
   "cell_type": "code",
   "execution_count": 17,
   "id": "6d76a5cc",
   "metadata": {},
   "outputs": [
    {
     "name": "stdout",
     "output_type": "stream",
     "text": [
      "X_train:\n",
      "      mileage   hp  init_regist_year\n",
      "3731    96000  396            2003.0\n",
      "3079    33000   82            2016.0\n",
      "175    159000  204            2013.0\n",
      "278     35000  350            2016.0\n",
      "1074    49751  156            2015.0 \n",
      "\n",
      "y_train:\n",
      "3731    17800\n",
      "3079    11000\n",
      "175     17100\n",
      "278     34900\n",
      "1074    21000\n",
      "Name: price, dtype: int64\n"
     ]
    }
   ],
   "source": [
    "# Create train and test samples\n",
    "X_train, X_test, y_train, y_test = train_test_split(df[['mileage', \n",
    "                                                        'hp',\n",
    "                                                        'init_regist_year']], # X = mileage, hp, init_regist_year, unabhängige Variablen\n",
    "                                                        df['price'], # y = price, abhängige Variable\n",
    "                                                        test_size=0.20, \n",
    "                                                        random_state=42)\n",
    "\n",
    "# Show X_train\n",
    "print('X_train:')\n",
    "print(X_train.head(), '\\n')\n",
    "\n",
    "# Show y_train\n",
    "print('y_train:')\n",
    "print(y_train.head())"
   ]
  },
  {
   "cell_type": "markdown",
   "id": "93f65098",
   "metadata": {},
   "source": [
    "### Fit the regression tree model"
   ]
  },
  {
   "cell_type": "code",
   "execution_count": 18,
   "id": "23141c86",
   "metadata": {},
   "outputs": [],
   "source": [
    "# Entscheidungsbaum-Regressor (Regressionsmodel das auf Entscheidungsbaum basiert) erstellt und trainiert, um Vorhersagen für einen Testdatensatz\n",
    "# DecisionTreeRegressor = Machine-Learning-Modell aus der scikit-learn-Bibliothek, das verwendet wird, um Vorhersagen zu treffen.\n",
    "\n",
    "# Create decision tree regressor object\n",
    "reg = DecisionTreeRegressor(random_state=20, max_depth=3) # random_state = zufälliger Startwert, max_depth = Tiefe des Baumes auf drei Ebenen, um eine (Overfitting) zu verhindern\n",
    "\n",
    "# Train decision tree regressor \n",
    "reg = reg.fit(X_train, y_train) \n",
    "\n",
    "# Predict the response for test dataset\n",
    "y_pred = reg.predict(X_test)"
   ]
  },
  {
   "cell_type": "markdown",
   "id": "a104a81a",
   "metadata": {},
   "source": [
    "### Calculate coefficient of determination (R-squared)"
   ]
  },
  {
   "cell_type": "code",
   "execution_count": 19,
   "id": "2214835a",
   "metadata": {},
   "outputs": [
    {
     "name": "stdout",
     "output_type": "stream",
     "text": [
      "R-squared: 0.5675\n"
     ]
    }
   ],
   "source": [
    "# Calculate coefficient of determination\n",
    "print('R-squared:', round(r2_score(y_test, y_pred), 4)) # auf vier Dezimalstellen runden\n"
   ]
  },
  {
   "cell_type": "markdown",
   "id": "2241dece",
   "metadata": {},
   "source": [
    "### Print text representation of the regression tree"
   ]
  },
  {
   "cell_type": "code",
   "execution_count": 20,
   "id": "0df6062b",
   "metadata": {},
   "outputs": [
    {
     "name": "stdout",
     "output_type": "stream",
     "text": [
      "|--- hp <= 325.50\n",
      "|   |--- init_regist_year <= 2014.50\n",
      "|   |   |--- hp <= 179.00\n",
      "|   |   |   |--- value: [10621.55]\n",
      "|   |   |--- hp >  179.00\n",
      "|   |   |   |--- value: [19406.35]\n",
      "|   |--- init_regist_year >  2014.50\n",
      "|   |   |--- hp <= 189.00\n",
      "|   |   |   |--- value: [21421.78]\n",
      "|   |   |--- hp >  189.00\n",
      "|   |   |   |--- value: [36905.57]\n",
      "|--- hp >  325.50\n",
      "|   |--- mileage <= 82250.00\n",
      "|   |   |--- mileage <= 29850.00\n",
      "|   |   |   |--- value: [65963.09]\n",
      "|   |   |--- mileage >  29850.00\n",
      "|   |   |   |--- value: [52249.08]\n",
      "|   |--- mileage >  82250.00\n",
      "|   |   |--- mileage <= 125294.50\n",
      "|   |   |   |--- value: [38757.32]\n",
      "|   |   |--- mileage >  125294.50\n",
      "|   |   |   |--- value: [24568.88]\n",
      "\n"
     ]
    }
   ],
   "source": [
    "# Text representation of the regression tree\n",
    "text_representation = tree.export_text(reg, \n",
    "                                       feature_names=list(X_train.columns))\n",
    "\n",
    "# Print text_representation\n",
    "print(text_representation)\n",
    "\n",
    "# Die Ausgabe zeigt die Entscheidungsregeln des Baums in einer Art verschachtelten If-Else-Struktur:\n",
    "# Jede Zeile stellt eine Bedingung in einem Knoten dar, z. B. wie area <= 99.50, dass der Baum sich an dieser Stelle verzweigt.\n",
    "# Wenn die Bedingung erfüllt ist, folgt der Baum dem rechten Zweig (pop_dens); andernfalls geht es nach links resp. unten zum nächsten area Knotenpunkt.\n",
    "# Blattknoten am Ende des Baums repräsentieren die vorhergesagten Werte für die Zielvariable."
   ]
  },
  {
   "cell_type": "markdown",
   "id": "afec49c6",
   "metadata": {},
   "source": [
    "### Vizualizing the regression tree"
   ]
  },
  {
   "cell_type": "code",
   "execution_count": 21,
   "id": "e9267117",
   "metadata": {},
   "outputs": [
    {
     "data": {
      "image/png": "[encoded data removed]",
      "text/plain": [
       "<Figure size 1200x600 with 1 Axes>"
      ]
     },
     "metadata": {},
     "output_type": "display_data"
    }
   ],
   "source": [
    "fig = plt.figure(figsize=(12,6))\n",
    "_ = tree.plot_tree(reg, \n",
    "                   feature_names=list(X_train.columns),  \n",
    "                   class_names=['price'], # Handelt um Regression, gibt es keine Klassen wie bei Klassifikationsmodellen, aber class_names kann eine Bezeichnung für die Zielvariable (abhängige) sein\n",
    "                   filled=True, #Farbliche Hervorhebung der Knotenpunkte\n",
    "                   fontsize=9,\n",
    "                   label='root', #Labels für Knotenpunkte werden angezeigt\n",
    "                   rounded=True) # Ecken abrunden"
   ]
  },
  {
   "cell_type": "markdown",
   "id": "60d6ed7c",
   "metadata": {},
   "source": [
    "## Random Forest Regression\n",
    "For details see: https://scikit-learn.org/stable/modules/generated/sklearn.ensemble.RandomForestRegressor.html"
   ]
  },
  {
   "cell_type": "markdown",
   "id": "545f9034",
   "metadata": {},
   "source": [
    "### Create train and test samples for the random forest (train = 80%, test = 20% of the data)"
   ]
  },
  {
   "cell_type": "code",
   "execution_count": 22,
   "id": "d0ffb139",
   "metadata": {},
   "outputs": [
    {
     "name": "stdout",
     "output_type": "stream",
     "text": [
      "X2_train:\n",
      "      mileage   hp  init_regist_year\n",
      "3731    96000  396            2003.0\n",
      "3079    33000   82            2016.0\n",
      "175    159000  204            2013.0\n",
      "278     35000  350            2016.0\n",
      "1074    49751  156            2015.0 \n",
      "\n",
      "y2_train:\n",
      "3731    17800\n",
      "3079    11000\n",
      "175     17100\n",
      "278     34900\n",
      "1074    21000\n",
      "Name: price, dtype: int64\n"
     ]
    }
   ],
   "source": [
    "# Create train and test samples (the names X2_ and y2_ were used because X_ and y_ were already used above)\n",
    "X2_train, X2_test, y2_train, y2_test = train_test_split(df[['mileage', \n",
    "                                                            'hp',\n",
    "                                                            'init_regist_year']], \n",
    "                                                            df['price'], \n",
    "                                                            test_size=0.20, \n",
    "                                                            random_state=42)\n",
    "\n",
    "# Show X2_train\n",
    "print('X2_train:')\n",
    "print(X2_train.head(), '\\n')\n",
    "\n",
    "# Show y2_train\n",
    "print('y2_train:')\n",
    "print(y2_train.head())"
   ]
  },
  {
   "cell_type": "markdown",
   "id": "f565dc23",
   "metadata": {},
   "source": [
    "### Fit the Random Forest Regression"
   ]
  },
  {
   "cell_type": "code",
   "execution_count": 23,
   "id": "6eb896c2",
   "metadata": {},
   "outputs": [
    {
     "name": "stdout",
     "output_type": "stream",
     "text": [
      "R-squared: 0.7255\n"
     ]
    }
   ],
   "source": [
    "\n",
    "reg_rf = RandomForestRegressor(n_estimators=500, # 500 Bäume im Random Forest\n",
    "                               max_depth=10, # tiefe des Modells anpassen. max 10 Ebenen\n",
    "                               random_state=5) # auf scikit learn -> randomforest eingeben\n",
    "reg_rf.fit(X2_train, y2_train)\n",
    "\n",
    "# Calculate coefficient of determination (R-squared)\n",
    "print('R-squared:', round(reg_rf.score(X2_test, y2_test), 4))"
   ]
  },
  {
   "cell_type": "markdown",
   "id": "888014a9",
   "metadata": {},
   "source": [
    "### Show feature importance"
   ]
  },
  {
   "cell_type": "code",
   "execution_count": 24,
   "id": "b51f4d42",
   "metadata": {},
   "outputs": [
    {
     "name": "stdout",
     "output_type": "stream",
     "text": [
      "Index(['hp', 'init_regist_year', 'mileage'], dtype='object')\n",
      "[0.5485349 0.2278084 0.2236567]\n"
     ]
    },
    {
     "data": {
      "image/png": "[encoded data removed]",
      "text/plain": [
       "<Figure size 600x300 with 1 Axes>"
      ]
     },
     "metadata": {},
     "output_type": "display_data"
    }
   ],
   "source": [
    "cols = X2_train.columns\n",
    "\n",
    "# Derive feature importance from random forest\n",
    "importances = reg_rf.feature_importances_ # Wichtigkeit der Merkmale ermitteln\n",
    "std         = np.std([tree.feature_importances_ for tree in reg_rf.estimators_], axis=0) # Standardabweichung der Werte um Stabilität zu ermitteln\n",
    "indices     = np.argsort(importances)[::-1] # sortiert Indizies der Merkmale in absteigender Reihenfolge (wichtigste Merkmale zuerst)\n",
    "\n",
    "# Print col-names and importances-values\n",
    "print( cols[indices] )\n",
    "print( importances[indices] )\n",
    "\n",
    "# Barplot with feature importance\n",
    "df_fi = pd.DataFrame({'features':cols,'importances': importances}) # Dataframe erstellen für Wichtigkeit der Merkmale\n",
    "df_fi.sort_values('importances', inplace=True)\n",
    "df_fi.plot(kind='barh', #barplot horizontal\n",
    "           y='importances', \n",
    "           x='features', \n",
    "           color='darkred', \n",
    "           figsize=(6,3))\n",
    "\n",
    "plt.show()"
   ]
  },
  {
   "cell_type": "markdown",
   "id": "f5dc21b7",
   "metadata": {},
   "source": [
    "### Jupyter notebook --footer info-- (please always provide this at the end of each submitted notebook)"
   ]
  },
  {
   "cell_type": "code",
   "execution_count": null,
   "id": "6908ed12",
   "metadata": {},
   "outputs": [],
   "source": [
    "import os\n",
    "import platform\n",
    "import socket\n",
    "from platform import python_version\n",
    "from datetime import datetime\n",
    "\n",
    "print('-----------------------------------')\n",
    "print(os.name.upper())\n",
    "print(platform.system(), '|', platform.release())\n",
    "print('Datetime:', datetime.now().strftime(\"%Y-%m-%d %H:%M:%S\"))\n",
    "print('Python Version:', python_version())\n",
    "print('-----------------------------------')"
   ]
  }
 ],
 "metadata": {
  "kernelspec": {
   "display_name": "Python 3",
   "language": "python",
   "name": "python3"
  },
  "language_info": {
   "codemirror_mode": {
    "name": "ipython",
    "version": 3
   },
   "file_extension": ".py",
   "mimetype": "text/x-python",
   "name": "python",
   "nbconvert_exporter": "python",
   "pygments_lexer": "ipython3",
   "version": "3.11.10"
  }
 },
 "nbformat": 4,
 "nbformat_minor": 5
}
